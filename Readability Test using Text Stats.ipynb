{
 "cells": [
  {
   "cell_type": "code",
   "execution_count": 30,
   "metadata": {},
   "outputs": [
    {
     "name": "stdout",
     "output_type": "stream",
     "text": [
      "Requirement already satisfied: textstat in /Users/AliceGuo/opt/anaconda3/lib/python3.7/site-packages (0.6.0)\n",
      "Requirement already satisfied: pyphen in /Users/AliceGuo/opt/anaconda3/lib/python3.7/site-packages (from textstat) (0.9.5)\n",
      "Note: you may need to restart the kernel to use updated packages.\n"
     ]
    }
   ],
   "source": [
    "pip install textstat"
   ]
  },
  {
   "cell_type": "markdown",
   "metadata": {},
   "source": [
    "### Textstats"
   ]
  },
  {
   "cell_type": "code",
   "execution_count": 7,
   "metadata": {},
   "outputs": [],
   "source": [
    "import textstat"
   ]
  },
  {
   "cell_type": "code",
   "execution_count": 8,
   "metadata": {},
   "outputs": [],
   "source": [
    "textstat.set_lang(\"en\")"
   ]
  },
  {
   "cell_type": "code",
   "execution_count": 9,
   "metadata": {},
   "outputs": [],
   "source": [
    "text = \"\"\"\n",
    "Data science is the main focus of most sciences and studies right now, \n",
    "it needs a lot of things like AI, programming, statistics, \n",
    "business understanding, effective presentation skills and much more. \n",
    "That's why it's not easy to understand or study. But we can do it, we are doing it.\n",
    "Data science has become the standard solving problem framework for academia and \n",
    "the industry and it's going to be like that for a while. But we need to remember \n",
    "where we are coming from, who we are and where we are going.\n",
    "\"\"\""
   ]
  },
  {
   "cell_type": "code",
   "execution_count": 10,
   "metadata": {},
   "outputs": [
    {
     "data": {
      "text/plain": [
       "126"
      ]
     },
     "execution_count": 10,
     "metadata": {},
     "output_type": "execute_result"
    }
   ],
   "source": [
    "# Count Syllables\n",
    "textstat.syllable_count(text)"
   ]
  },
  {
   "cell_type": "code",
   "execution_count": 11,
   "metadata": {},
   "outputs": [
    {
     "data": {
      "text/plain": [
       "91"
      ]
     },
     "execution_count": 11,
     "metadata": {},
     "output_type": "execute_result"
    }
   ],
   "source": [
    "# Lexicon count\n",
    "textstat.lexicon_count(text, removepunct=True)"
   ]
  },
  {
   "cell_type": "code",
   "execution_count": 12,
   "metadata": {},
   "outputs": [
    {
     "data": {
      "text/plain": [
       "4"
      ]
     },
     "execution_count": 12,
     "metadata": {},
     "output_type": "execute_result"
    }
   ],
   "source": [
    "\n",
    "# Sentence count\n",
    "textstat.sentence_count(text)"
   ]
  },
  {
   "cell_type": "code",
   "execution_count": 13,
   "metadata": {},
   "outputs": [
    {
     "data": {
      "text/plain": [
       "65.25"
      ]
     },
     "execution_count": 13,
     "metadata": {},
     "output_type": "execute_result"
    }
   ],
   "source": [
    "# Flesch Reading Ease formula\n",
    "textstat.flesch_reading_ease(text)"
   ]
  },
  {
   "cell_type": "code",
   "execution_count": 14,
   "metadata": {},
   "outputs": [
    {
     "data": {
      "text/plain": [
       "9.8"
      ]
     },
     "execution_count": 14,
     "metadata": {},
     "output_type": "execute_result"
    }
   ],
   "source": [
    "# Flesch-Kincaid Grade Level\n",
    "textstat.flesch_kincaid_grade(text)"
   ]
  },
  {
   "cell_type": "markdown",
   "metadata": {},
   "source": [
    "This means the text is very difficult to read. Best understood by university graduates. Which seems fine."
   ]
  },
  {
   "cell_type": "code",
   "execution_count": 15,
   "metadata": {},
   "outputs": [
    {
     "data": {
      "text/plain": [
       "11.76"
      ]
     },
     "execution_count": 15,
     "metadata": {},
     "output_type": "execute_result"
    }
   ],
   "source": [
    "# Fog Scale (Gunning FOG Formula)\n",
    "textstat.gunning_fog(text)"
   ]
  },
  {
   "cell_type": "code",
   "execution_count": 16,
   "metadata": {},
   "outputs": [
    {
     "data": {
      "text/plain": [
       "11.8"
      ]
     },
     "execution_count": 16,
     "metadata": {},
     "output_type": "execute_result"
    }
   ],
   "source": [
    "# Automated Readability Index\n",
    "textstat.automated_readability_index(text)"
   ]
  },
  {
   "cell_type": "code",
   "execution_count": 17,
   "metadata": {},
   "outputs": [
    {
     "data": {
      "text/plain": [
       "7.54"
      ]
     },
     "execution_count": 17,
     "metadata": {},
     "output_type": "execute_result"
    }
   ],
   "source": [
    "# Dale-Chall Readability Score\n",
    "textstat.dale_chall_readability_score(text)"
   ]
  },
  {
   "cell_type": "code",
   "execution_count": 18,
   "metadata": {},
   "outputs": [
    {
     "data": {
      "text/plain": [
       "'11th and 12th grade'"
      ]
     },
     "execution_count": 18,
     "metadata": {},
     "output_type": "execute_result"
    }
   ],
   "source": [
    "# Readability Consensus\n",
    "textstat.text_standard(text, float_output=False)"
   ]
  },
  {
   "cell_type": "code",
   "execution_count": 19,
   "metadata": {},
   "outputs": [],
   "source": [
    "# Run all at once\n",
    "import inspect\n",
    "funcs = [\"textstat.\" + inspect.getmembers(textstat, predicate=inspect.ismethod)[i][0] for i in range(1,28)]"
   ]
  },
  {
   "cell_type": "code",
   "execution_count": 20,
   "metadata": {},
   "outputs": [
    {
     "name": "stdout",
     "output_type": "stream",
     "text": [
      "avg_character_per_word\n",
      "4.64\n",
      " \n",
      "avg_letter_per_word\n",
      "4.47\n",
      " \n",
      "avg_sentence_length\n",
      "22.8\n",
      " \n",
      "avg_sentence_per_word\n",
      "0.04\n",
      " \n",
      "avg_syllables_per_word\n",
      "1.4\n",
      " \n",
      "char_count\n",
      "422\n",
      " \n",
      "coleman_liau_index\n",
      "8.94\n",
      " \n",
      "dale_chall_readability_score\n",
      "7.54\n",
      " \n",
      "dale_chall_readability_score_v2\n",
      "7.54\n",
      " \n",
      "difficult_words\n",
      "16\n",
      " \n",
      "difficult_words_list\n",
      "['programming', 'framework', 'data', 'doing', 'presentation', 'industry', 'studies', 'focus', 'science', 'understanding', 'sciences', 'standard', 'problem', 'effective', 'statistics', 'solving']\n",
      " \n",
      "flesch_kincaid_grade\n",
      "9.8\n",
      " \n",
      "flesch_reading_ease\n",
      "65.25\n",
      " \n",
      "gunning_fog\n",
      "11.76\n",
      " \n",
      "letter_count\n",
      "407\n",
      " \n",
      "lexicon_count\n",
      "91\n",
      " \n",
      "linsear_write_formula\n",
      "10.7\n",
      " \n",
      "lix\n",
      "42.58\n",
      " \n",
      "polysyllabcount\n",
      "8\n",
      " \n",
      "reading_time\n",
      "6.08\n",
      " \n",
      "rix\n",
      "4.5\n",
      " \n",
      "sentence_count\n",
      "4\n",
      " \n",
      "set_lang\n",
      "None\n",
      " \n",
      "smog_index\n",
      "11.2\n",
      " \n",
      "spache_readability\n",
      "5.5588379120879114\n",
      " \n",
      "syllable_count\n",
      "126\n",
      " \n",
      "text_standard\n",
      "11th and 12th grade\n",
      " \n"
     ]
    }
   ],
   "source": [
    "\n",
    "for elem in funcs:\n",
    "    method = eval(elem)\n",
    "    textstat.set_lang(\"en\")\n",
    "    print(elem.split(\".\")[1])\n",
    "    print(method(text))\n",
    "    print(\" \")"
   ]
  },
  {
   "cell_type": "markdown",
   "metadata": {},
   "source": [
    "#### Correct Spelling"
   ]
  },
  {
   "cell_type": "code",
   "execution_count": 31,
   "metadata": {},
   "outputs": [
    {
     "name": "stdout",
     "output_type": "stream",
     "text": [
      "Collecting autocorrect\n",
      "  Downloading autocorrect-1.1.0.tar.gz (1.8 MB)\n",
      "\u001b[K     |████████████████████████████████| 1.8 MB 1.1 MB/s eta 0:00:01\n",
      "\u001b[?25hBuilding wheels for collected packages: autocorrect\n",
      "  Building wheel for autocorrect (setup.py) ... \u001b[?25ldone\n",
      "\u001b[?25h  Created wheel for autocorrect: filename=autocorrect-1.1.0-py3-none-any.whl size=1810765 sha256=03719765741247d3062790ee2f018ff8c95913e79244269fb69b0b76149fa8eb\n",
      "  Stored in directory: /Users/AliceGuo/Library/Caches/pip/wheels/90/36/07/189583e2a4285fd6c41b0a80d94d14ac0bb93a33c20d4ad3ed\n",
      "Successfully built autocorrect\n",
      "Installing collected packages: autocorrect\n",
      "Successfully installed autocorrect-1.1.0\n",
      "Note: you may need to restart the kernel to use updated packages.\n"
     ]
    }
   ],
   "source": [
    "pip install autocorrect"
   ]
  },
  {
   "cell_type": "code",
   "execution_count": 32,
   "metadata": {},
   "outputs": [],
   "source": [
    "# Here I'm misspelling :\n",
    "# presentation as presentatio\n",
    "# focus as focsu\n",
    "# framework as framwork \n",
    "text = \"\"\"\n",
    "Data science is the main focsu of most sciences and studies right now, \n",
    "it needs a lot of things like AI, programming, statistics, \n",
    "business understanding, effective presentatio skills and much more. \n",
    "That's why it's not easy to understand or study. But we can do it, we are doing it.\n",
    "Data science has become the standard solving problem framwork for academia and \n",
    "the industry and it's going to be like that for a while. But we need to remember \n",
    "where we are coming from, who we are and where we are going.\n",
    "\"\"\""
   ]
  },
  {
   "cell_type": "code",
   "execution_count": 33,
   "metadata": {},
   "outputs": [
    {
     "data": {
      "text/plain": [
       "\"\\nData science is the main focus of most sciences and studies right now, \\nit needs a lot of things like Ai, programming, statistics, \\nbusiness understanding, effective presentation skills and much more. \\nThat's why it's not easy to understand or study. But we can do it, we are doing it.\\nData science has become the standard solving problem framework for academia and \\nthe industry and it's going to be like that for a while. But we need to remember \\nwhere we are coming from, who we are and where we are going.\\n\""
      ]
     },
     "execution_count": 33,
     "metadata": {},
     "output_type": "execute_result"
    }
   ],
   "source": [
    "#There are great libraries for that in Python, but autocorrect is the easiest one to use\n",
    "from autocorrect import Speller\n",
    "check = Speller(lang='en')\n",
    "check(text)"
   ]
  },
  {
   "cell_type": "markdown",
   "metadata": {},
   "source": [
    "Which has all fixed."
   ]
  },
  {
   "cell_type": "code",
   "execution_count": null,
   "metadata": {},
   "outputs": [],
   "source": []
  },
  {
   "cell_type": "code",
   "execution_count": null,
   "metadata": {},
   "outputs": [],
   "source": []
  },
  {
   "cell_type": "code",
   "execution_count": null,
   "metadata": {},
   "outputs": [],
   "source": []
  }
 ],
 "metadata": {
  "kernelspec": {
   "display_name": "Python 3",
   "language": "python",
   "name": "python3"
  },
  "language_info": {
   "codemirror_mode": {
    "name": "ipython",
    "version": 3
   },
   "file_extension": ".py",
   "mimetype": "text/x-python",
   "name": "python",
   "nbconvert_exporter": "python",
   "pygments_lexer": "ipython3",
   "version": "3.7.6"
  }
 },
 "nbformat": 4,
 "nbformat_minor": 4
}
